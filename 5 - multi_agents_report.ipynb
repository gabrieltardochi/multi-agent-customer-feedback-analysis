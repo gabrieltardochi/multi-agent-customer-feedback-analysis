{
 "cells": [
  {
   "cell_type": "code",
   "execution_count": 6,
   "metadata": {},
   "outputs": [
    {
     "data": {
      "text/plain": [
       "True"
      ]
     },
     "execution_count": 6,
     "metadata": {},
     "output_type": "execute_result"
    }
   ],
   "source": [
    "import dotenv\n",
    "import json \n",
    "import operator\n",
    "from pydantic import BaseModel, Field\n",
    "from typing import List, Annotated\n",
    "from typing_extensions import TypedDict\n",
    "from langgraph.constants import Send\n",
    "from langchain_openai import ChatOpenAI\n",
    "from langchain_core.prompts import ChatPromptTemplate\n",
    "\n",
    "dotenv.load_dotenv(dotenv_path=\".env\")"
   ]
  },
  {
   "cell_type": "code",
   "execution_count": 21,
   "metadata": {},
   "outputs": [],
   "source": [
    "with open('data/gold/stats-2023.json', 'r') as file:\n",
    "    statistics_document = json.load(file)\n",
    "\n",
    "analyst_report_prompt = ChatPromptTemplate.from_template(\n",
    "    \"\"\"You are an {analyst_topic} AI analyst. \n",
    "            \n",
    "Your task is to create a short, easily digestible section of a report based on your analysis of your e-commerce company's customer feedback statistics json document provided to you.\n",
    "\n",
    "1. Analyze the content of the source document:\n",
    "\n",
    "{statistics_document}\n",
    "\n",
    "2. Create a report for the CEO focusing on the most relevant numbers to your area of interest ({analyst_topic}), structure it using markdown formatting:\n",
    "- Use ## for the section title\n",
    "- Use ### for sub-section headers\n",
    "- Identify up to 3 positive and negative insights related to {analyst_topic}\n",
    "- It should be descriptive, don't propose solutions \n",
    "- Use the gathered data as your source\n",
    "\n",
    "4. Make your title and content engaging based upon the focus area of the analyst: \n",
    "{analyst_topic}\n",
    "\n",
    "5. End with a summary section:\n",
    "- Set up summary with general background / context related to the focus area of the analyst\n",
    "- Emphasize what is novel, interesting, or surprising about insights gathered from the data\n",
    "- Aim for approximately 400 words maximum\n",
    "        \n",
    "6. Final review:\n",
    "- Ensure the report follows the required structure\n",
    "- Include no preamble before the title of the report\n",
    "- Check that all guidelines have been followed\"\"\"\n",
    ")\n",
    "\n",
    "gpt4o_llm = ChatOpenAI(model=\"gpt-4o\", temperature=0)\n",
    "\n",
    "analyst_report_chain = analyst_report_prompt | gpt4o_llm"
   ]
  },
  {
   "cell_type": "code",
   "execution_count": 22,
   "metadata": {},
   "outputs": [],
   "source": [
    "analysts_reports = {\n",
    "    \"logistics\": analyst_report_chain.invoke(\n",
    "        {\n",
    "            \"statistics_document\": statistics_document,\n",
    "            \"analyst_topic\": \"logistics\"\n",
    "        }\n",
    "    ),\n",
    "    \"branding\": analyst_report_chain.invoke(\n",
    "        {\n",
    "            \"statistics_document\": statistics_document,\n",
    "            \"analyst_topic\": \"branding\"\n",
    "        }\n",
    "    ),\n",
    "    \"manufacture\": analyst_report_chain.invoke(\n",
    "        {\n",
    "            \"statistics_document\": statistics_document,\n",
    "            \"analyst_topic\": \"manufacture\"\n",
    "        }\n",
    "    ),\n",
    "    \"sales\": analyst_report_chain.invoke(\n",
    "        {\n",
    "            \"statistics_document\": statistics_document,\n",
    "            \"analyst_topic\": \"sales\"\n",
    "        }\n",
    "    )\n",
    "}"
   ]
  },
  {
   "cell_type": "code",
   "execution_count": 26,
   "metadata": {},
   "outputs": [],
   "source": [
    "for analyst, report in analysts_reports.items():\n",
    "    f = open(f\"reports/{analyst}.md\", \"w\")\n",
    "    f.write(report.content)\n",
    "    f.close()"
   ]
  }
 ],
 "metadata": {
  "kernelspec": {
   "display_name": ".venv",
   "language": "python",
   "name": "python3"
  },
  "language_info": {
   "codemirror_mode": {
    "name": "ipython",
    "version": 3
   },
   "file_extension": ".py",
   "mimetype": "text/x-python",
   "name": "python",
   "nbconvert_exporter": "python",
   "pygments_lexer": "ipython3",
   "version": "3.11.10"
  }
 },
 "nbformat": 4,
 "nbformat_minor": 2
}
