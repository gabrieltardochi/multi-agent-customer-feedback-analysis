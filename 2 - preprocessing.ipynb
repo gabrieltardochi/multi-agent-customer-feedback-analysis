{
 "cells": [
  {
   "cell_type": "code",
   "execution_count": 1,
   "metadata": {},
   "outputs": [],
   "source": [
    "import pandas as pd"
   ]
  },
  {
   "cell_type": "code",
   "execution_count": 2,
   "metadata": {},
   "outputs": [],
   "source": [
    "df = pd.read_excel(\"data/bronze/feedbacks-2023.xlsx\")"
   ]
  },
  {
   "cell_type": "code",
   "execution_count": 3,
   "metadata": {},
   "outputs": [
    {
     "name": "stdout",
     "output_type": "stream",
     "text": [
      "Categories: Product Quality, Delivery, Pricing, Customer Service, Website Usability\n",
      "Sentiments: positive, neutral, negative\n"
     ]
    }
   ],
   "source": [
    "df['quarter'] = pd.to_datetime(df['date']).dt.year.astype(str) + 'Q' + pd.to_datetime(df['date']).dt.quarter.astype(str)\n",
    "\n",
    "categories = df[\"feedback_category\"].unique().tolist()\n",
    "print(f\"Categories: {', '.join(categories)}\")\n",
    "sentiments = df[\"sentiment\"].unique().tolist()\n",
    "print(f\"Sentiments: {', '.join(sentiments)}\")\n",
    "\n",
    "cleansed_cols = [\"feedback_id\", \"customer_id\", \"date\", \"quarter\", \"feedback_text\"]\n",
    "text_deduped_cols = [\"feedback_text\"]\n",
    "\n",
    "cleansed_df = df[cleansed_cols]\n",
    "text_deduped_df = df[text_deduped_cols].drop_duplicates(\"feedback_text\").reset_index(drop=True)"
   ]
  },
  {
   "cell_type": "code",
   "execution_count": 4,
   "metadata": {},
   "outputs": [
    {
     "data": {
      "text/html": [
       "<div>\n",
       "<style scoped>\n",
       "    .dataframe tbody tr th:only-of-type {\n",
       "        vertical-align: middle;\n",
       "    }\n",
       "\n",
       "    .dataframe tbody tr th {\n",
       "        vertical-align: top;\n",
       "    }\n",
       "\n",
       "    .dataframe thead th {\n",
       "        text-align: right;\n",
       "    }\n",
       "</style>\n",
       "<table border=\"1\" class=\"dataframe\">\n",
       "  <thead>\n",
       "    <tr style=\"text-align: right;\">\n",
       "      <th></th>\n",
       "      <th>feedback_id</th>\n",
       "      <th>customer_id</th>\n",
       "      <th>date</th>\n",
       "      <th>quarter</th>\n",
       "      <th>feedback_text</th>\n",
       "    </tr>\n",
       "  </thead>\n",
       "  <tbody>\n",
       "    <tr>\n",
       "      <th>521</th>\n",
       "      <td>522</td>\n",
       "      <td>2500</td>\n",
       "      <td>2023-06-29</td>\n",
       "      <td>2023Q2</td>\n",
       "      <td>Excellent value for money!</td>\n",
       "    </tr>\n",
       "    <tr>\n",
       "      <th>737</th>\n",
       "      <td>738</td>\n",
       "      <td>1825</td>\n",
       "      <td>2023-06-28</td>\n",
       "      <td>2023Q2</td>\n",
       "      <td>The quality of the product was below expectati...</td>\n",
       "    </tr>\n",
       "    <tr>\n",
       "      <th>740</th>\n",
       "      <td>741</td>\n",
       "      <td>2516</td>\n",
       "      <td>2023-04-13</td>\n",
       "      <td>2023Q2</td>\n",
       "      <td>Excellent value for money!</td>\n",
       "    </tr>\n",
       "    <tr>\n",
       "      <th>660</th>\n",
       "      <td>661</td>\n",
       "      <td>3388</td>\n",
       "      <td>2023-02-20</td>\n",
       "      <td>2023Q1</td>\n",
       "      <td>Received a defective item.</td>\n",
       "    </tr>\n",
       "    <tr>\n",
       "      <th>411</th>\n",
       "      <td>412</td>\n",
       "      <td>4234</td>\n",
       "      <td>2023-06-13</td>\n",
       "      <td>2023Q2</td>\n",
       "      <td>The customer service was very helpful.</td>\n",
       "    </tr>\n",
       "  </tbody>\n",
       "</table>\n",
       "</div>"
      ],
      "text/plain": [
       "     feedback_id  customer_id       date quarter  \\\n",
       "521          522         2500 2023-06-29  2023Q2   \n",
       "737          738         1825 2023-06-28  2023Q2   \n",
       "740          741         2516 2023-04-13  2023Q2   \n",
       "660          661         3388 2023-02-20  2023Q1   \n",
       "411          412         4234 2023-06-13  2023Q2   \n",
       "\n",
       "                                         feedback_text  \n",
       "521                         Excellent value for money!  \n",
       "737  The quality of the product was below expectati...  \n",
       "740                         Excellent value for money!  \n",
       "660                         Received a defective item.  \n",
       "411             The customer service was very helpful.  "
      ]
     },
     "execution_count": 4,
     "metadata": {},
     "output_type": "execute_result"
    }
   ],
   "source": [
    "cleansed_df.sample(5, random_state=42)"
   ]
  },
  {
   "cell_type": "code",
   "execution_count": 5,
   "metadata": {},
   "outputs": [
    {
     "data": {
      "text/html": [
       "<div>\n",
       "<style scoped>\n",
       "    .dataframe tbody tr th:only-of-type {\n",
       "        vertical-align: middle;\n",
       "    }\n",
       "\n",
       "    .dataframe tbody tr th {\n",
       "        vertical-align: top;\n",
       "    }\n",
       "\n",
       "    .dataframe thead th {\n",
       "        text-align: right;\n",
       "    }\n",
       "</style>\n",
       "<table border=\"1\" class=\"dataframe\">\n",
       "  <thead>\n",
       "    <tr style=\"text-align: right;\">\n",
       "      <th></th>\n",
       "      <th>feedback_text</th>\n",
       "    </tr>\n",
       "  </thead>\n",
       "  <tbody>\n",
       "    <tr>\n",
       "      <th>0</th>\n",
       "      <td>Excellent value for money!</td>\n",
       "    </tr>\n",
       "    <tr>\n",
       "      <th>1</th>\n",
       "      <td>Not satisfied with the service.</td>\n",
       "    </tr>\n",
       "    <tr>\n",
       "      <th>2</th>\n",
       "      <td>The pricing is too high for what you get.</td>\n",
       "    </tr>\n",
       "    <tr>\n",
       "      <th>3</th>\n",
       "      <td>Great product, but the delivery was late.</td>\n",
       "    </tr>\n",
       "    <tr>\n",
       "      <th>4</th>\n",
       "      <td>The delivery was fast and the product is good.</td>\n",
       "    </tr>\n",
       "    <tr>\n",
       "      <th>5</th>\n",
       "      <td>The customer service was very helpful.</td>\n",
       "    </tr>\n",
       "    <tr>\n",
       "      <th>6</th>\n",
       "      <td>Received a defective item.</td>\n",
       "    </tr>\n",
       "    <tr>\n",
       "      <th>7</th>\n",
       "      <td>Easy to use website and quick checkout.</td>\n",
       "    </tr>\n",
       "    <tr>\n",
       "      <th>8</th>\n",
       "      <td>I had issues with the website.</td>\n",
       "    </tr>\n",
       "    <tr>\n",
       "      <th>9</th>\n",
       "      <td>The quality of the product was below expectati...</td>\n",
       "    </tr>\n",
       "  </tbody>\n",
       "</table>\n",
       "</div>"
      ],
      "text/plain": [
       "                                       feedback_text\n",
       "0                         Excellent value for money!\n",
       "1                    Not satisfied with the service.\n",
       "2          The pricing is too high for what you get.\n",
       "3          Great product, but the delivery was late.\n",
       "4     The delivery was fast and the product is good.\n",
       "5             The customer service was very helpful.\n",
       "6                         Received a defective item.\n",
       "7            Easy to use website and quick checkout.\n",
       "8                     I had issues with the website.\n",
       "9  The quality of the product was below expectati..."
      ]
     },
     "execution_count": 5,
     "metadata": {},
     "output_type": "execute_result"
    }
   ],
   "source": [
    "text_deduped_df"
   ]
  },
  {
   "cell_type": "code",
   "execution_count": 6,
   "metadata": {},
   "outputs": [],
   "source": [
    "cleansed_df.to_parquet(\"data/silver/cleansed-feedbacks-2023.parquet\", index=False)\n",
    "text_deduped_df.to_parquet(\"data/silver/feedback-text-deduped-2023.parquet\", index=False)"
   ]
  }
 ],
 "metadata": {
  "kernelspec": {
   "display_name": ".venv",
   "language": "python",
   "name": "python3"
  },
  "language_info": {
   "codemirror_mode": {
    "name": "ipython",
    "version": 3
   },
   "file_extension": ".py",
   "mimetype": "text/x-python",
   "name": "python",
   "nbconvert_exporter": "python",
   "pygments_lexer": "ipython3",
   "version": "3.11.10"
  }
 },
 "nbformat": 4,
 "nbformat_minor": 2
}
